{
 "cells": [
  {
   "cell_type": "code",
   "execution_count": null,
   "metadata": {},
   "outputs": [],
   "source": [
    "import codecademylib3_seaborn\n",
    "import matplotlib.pyplot as plt\n",
    "#1\n",
    "from sklearn.datasets import load_breast_cancer\n",
    "#2\n",
    "from sklearn.model_selection import train_test_split\n",
    "from sklearn.neighbors import KNeighborsClassifier\n",
    "breast_cancer_data = load_breast_cancer()\n",
    "\n",
    "print(breast_cancer_data.data[0])\n",
    "print(breast_cancer_data.feature_names)\n",
    "#3\n",
    "print(breast_cancer_data.target)\n",
    "print(breast_cancer_data.target_names)\n",
    "\n",
    "\n",
    "training_data, validation_data, training_labels, validation_labels =train_test_split(breast_cancer_data.data,breast_cancer_data.target,test_size = 0.2, random_state = 100 )\n",
    "\n",
    "print(len(training_data),len(training_labels))\n",
    "\n",
    "#fitting \n",
    "accuracies=[]\n",
    "for k in range(1,101):\n",
    "  classifier=KNeighborsClassifier(n_neighbors = k)\n",
    "  classifier.fit(training_data,training_labels)\n",
    "  # print(classifier.score(validation_data,validation_labels))\n",
    "  accuracies.append(classifier.score(validation_data,validation_labels))\n",
    "k_list=range(1,101)\n",
    "\n",
    "plt.plot(k_list, accuracies)\n",
    "plt.xlabel(\"k- neighbors\")\n",
    "plt.ylabel(\"Model accuracy\") \n",
    "plt.title(\"Model accurary against k-neighbors\")\n",
    "plt.show()"
   ]
  }
 ],
 "metadata": {
  "kernelspec": {
   "display_name": "Python 3",
   "language": "python",
   "name": "python3"
  },
  "language_info": {
   "codemirror_mode": {
    "name": "ipython",
    "version": 3
   },
   "file_extension": ".py",
   "mimetype": "text/x-python",
   "name": "python",
   "nbconvert_exporter": "python",
   "pygments_lexer": "ipython3",
   "version": "3.7.6"
  }
 },
 "nbformat": 4,
 "nbformat_minor": 4
}
